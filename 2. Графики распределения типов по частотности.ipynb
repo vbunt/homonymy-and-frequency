{
 "cells": [
  {
   "cell_type": "code",
   "execution_count": 1,
   "metadata": {},
   "outputs": [],
   "source": [
    "from collections import Counter\n",
    "import pandas\n",
    "import matplotlib.pyplot as plt\n",
    "import sqlite3"
   ]
  },
  {
   "cell_type": "code",
   "execution_count": 2,
   "metadata": {},
   "outputs": [],
   "source": [
    "conn = sqlite3.connect('words.db')\n",
    "cur = conn.cursor()"
   ]
  },
  {
   "cell_type": "markdown",
   "metadata": {},
   "source": [
    "## В 10000 по тысячам"
   ]
  },
  {
   "cell_type": "code",
   "execution_count": 3,
   "metadata": {},
   "outputs": [],
   "source": [
    "q = pandas.read_sql_query(''' select *\n",
    "        from main\n",
    "        order by freq DESC\n",
    "        limit 10000''', conn)\n",
    "\n",
    "df = pandas.DataFrame(q, columns=['word','freq','type'])"
   ]
  },
  {
   "cell_type": "code",
   "execution_count": 4,
   "metadata": {},
   "outputs": [],
   "source": [
    "def fill_types(i, cnt_types, amb_pos, amb_par, amb_lem, amb_pos_lem, norm):\n",
    "    for t in cnt_types.keys():\n",
    "        if t == 'неоднозначно по части речи':\n",
    "            amb_pos[i] = cnt_types[t]\n",
    "        elif t == 'неоднозначно по параметрам':\n",
    "            amb_par[i] = cnt_types[t]\n",
    "        elif t == 'неоднозначно по лемме':\n",
    "            amb_lem[i] = cnt_types[t]\n",
    "        elif t == 'неоднозначно по части речи и лемме':\n",
    "            amb_pos_lem[i] = cnt_types[t]\n",
    "        elif t == 'однозначно':\n",
    "            norm[i] = cnt_types[t]"
   ]
  },
  {
   "cell_type": "code",
   "execution_count": 5,
   "metadata": {},
   "outputs": [
    {
     "data": {
      "image/png": "[encoded data removed]",
      "text/plain": [
       "<Figure size 432x288 with 1 Axes>"
      ]
     },
     "metadata": {
      "needs_background": "light"
     },
     "output_type": "display_data"
    }
   ],
   "source": [
    "labels = ['1000', '2000', '3000', '4000', '5000', '6000', '7000', '8000', '9000', '10000']\n",
    "amb_pos, amb_par, amb_lem = [0 for i in range(10)], [0 for i in range(10)], [0 for i in range(10)]\n",
    "amb_pos_lem, norm  = [0 for i in range(10)], [0 for i in range(10)]\n",
    "\n",
    "\n",
    "for i in range(10):\n",
    "    working_df = df[1000*i:1000*(i+1)+1]\n",
    "    cnt_types = Counter(working_df['type'])\n",
    "    fill_types(i, cnt_types, amb_pos, amb_par, amb_lem, amb_pos_lem, norm)\n",
    "        \n",
    "width = 0.5\n",
    "\n",
    "fig, ax = plt.subplots()\n",
    "\n",
    "totals = [i+j+k+p+o for i,j,k,p,o in zip(amb_pos, norm, amb_lem, amb_pos_lem, amb_par)]\n",
    "\n",
    "amb_pos = [i / j * 100 for i,j in zip(amb_pos, totals)]\n",
    "amb_par = [i / j * 100 for i,j in zip(amb_par, totals)]\n",
    "amb_lem = [i / j * 100 for i,j in zip(amb_lem, totals)]\n",
    "amb_pos_lem = [i / j * 100 for i,j in zip(amb_pos_lem, totals)]\n",
    "norm = [i / j * 100 for i,j in zip(norm, totals)]\n",
    "\n",
    "ax.bar(labels, norm, width, label='norm')\n",
    "ax.bar(labels, amb_pos, width, bottom=norm, label='pos')\n",
    "ax.bar(labels, amb_lem, width, bottom=[i+j for i,j in zip(amb_pos, norm)], label='lem')\n",
    "ax.bar(labels, amb_pos_lem, width, \n",
    "       bottom=[i+j+k for i,j,k in zip(amb_pos, norm, amb_lem)], label='pos_lem')\n",
    "ax.bar(labels, amb_par, width, \n",
    "       bottom=[i+j+k+p for i,j,k,p in zip(amb_pos, norm, amb_lem, amb_pos_lem)], label='par')\n",
    "\n",
    "\n",
    "ax.set_title('Распределение типов в 10000')\n",
    "plt.legend(bbox_to_anchor=(1.25, 1), loc='upper right')\n",
    "\n",
    "plt.show()"
   ]
  },
  {
   "cell_type": "markdown",
   "metadata": {},
   "source": [
    "## В 1000 по сотням"
   ]
  },
  {
   "cell_type": "code",
   "execution_count": 6,
   "metadata": {},
   "outputs": [],
   "source": [
    "q = pandas.read_sql_query(''' select *\n",
    "        from main\n",
    "        order by freq DESC\n",
    "        limit 1000''', conn)\n",
    "\n",
    "df = pandas.DataFrame(q, columns=['word','freq','type'])"
   ]
  },
  {
   "cell_type": "code",
   "execution_count": 7,
   "metadata": {},
   "outputs": [
    {
     "data": {
      "image/png": "[encoded data removed]",
      "text/plain": [
       "<Figure size 432x288 with 1 Axes>"
      ]
     },
     "metadata": {
      "needs_background": "light"
     },
     "output_type": "display_data"
    }
   ],
   "source": [
    "labels = ['100', '200', '300', '400', '500', '600', '700', '800', '900', '1000']\n",
    "amb_pos, amb_par, amb_lem = [0 for i in range(10)], [0 for i in range(10)], [0 for i in range(10)]\n",
    "amb_pos_lem, norm = [0 for i in range(10)], [0 for i in range(10)]\n",
    "\n",
    "for i in range(10):\n",
    "    working_df = df[100*i:100*(i+1)+1]\n",
    "    cnt_types = Counter(working_df['type'])\n",
    "    fill_types(i, cnt_types, amb_pos, amb_par, amb_lem, amb_pos_lem, norm)\n",
    "        \n",
    "width = 0.5\n",
    "\n",
    "fig, ax = plt.subplots()\n",
    "\n",
    "totals = [i+j+k+p+o for i,j,k,p,o in zip(amb_pos, norm, amb_lem, amb_pos_lem, amb_par)]\n",
    "amb_pos = [i / j * 100 for i,j in zip(amb_pos, totals)]\n",
    "amb_par = [i / j * 100 for i,j in zip(amb_par, totals)]\n",
    "amb_lem = [i / j * 100 for i,j in zip(amb_lem, totals)]\n",
    "amb_pos_lem = [i / j * 100 for i,j in zip(amb_pos_lem, totals)]\n",
    "norm = [i / j * 100 for i,j in zip(norm, totals)]\n",
    "\n",
    "\n",
    "ax.bar(labels, norm, width, label='norm')\n",
    "ax.bar(labels, amb_pos, width, bottom=norm, label='pos')\n",
    "ax.bar(labels, amb_lem, width, bottom=[i+j for i,j in zip(amb_pos, norm)], label='lem')\n",
    "ax.bar(labels, amb_pos_lem, width, \n",
    "       bottom=[i+j+k for i,j,k in zip(amb_pos, norm, amb_lem)], label='pos_lem')\n",
    "ax.bar(labels, amb_par, width, \n",
    "       bottom=[i+j+k+p for i,j,k,p in zip(amb_pos, norm, amb_lem, amb_pos_lem)], label='par')\n",
    "\n",
    "\n",
    "ax.set_title('Распределение типов в первой тысяче')\n",
    "plt.legend(bbox_to_anchor=(1.25, 1), loc='upper right')\n",
    "\n",
    "plt.show()"
   ]
  },
  {
   "cell_type": "code",
   "execution_count": null,
   "metadata": {},
   "outputs": [],
   "source": []
  }
 ],
 "metadata": {
  "kernelspec": {
   "display_name": "Python 3",
   "language": "python",
   "name": "python3"
  },
  "language_info": {
   "codemirror_mode": {
    "name": "ipython",
    "version": 3
   },
   "file_extension": ".py",
   "mimetype": "text/x-python",
   "name": "python",
   "nbconvert_exporter": "python",
   "pygments_lexer": "ipython3",
   "version": "3.7.3"
  }
 },
 "nbformat": 4,
 "nbformat_minor": 2
}
