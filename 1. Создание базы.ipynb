{
 "cells": [
  {
   "cell_type": "code",
   "execution_count": 1,
   "metadata": {},
   "outputs": [],
   "source": [
    "import pymorphy2\n",
    "import re\n",
    "from collections import Counter\n",
    "morph = pymorphy2.MorphAnalyzer()\n",
    "dict_type = type(morph.parse('котики')[0].methods_stack[0][0])\n",
    "import sqlite3"
   ]
  },
  {
   "cell_type": "code",
   "execution_count": 2,
   "metadata": {},
   "outputs": [],
   "source": [
    "conn = sqlite3.connect('words.db')\n",
    "cur = conn.cursor()\n",
    "\n",
    "cur.execute(\"\"\"\n",
    "CREATE TABLE IF NOT EXISTS main \n",
    "(word text PRIMARY KEY, \n",
    "freq int, \n",
    "type text)\n",
    "\"\"\")\n",
    "\n",
    "conn.commit()"
   ]
  },
  {
   "cell_type": "code",
   "execution_count": 3,
   "metadata": {},
   "outputs": [],
   "source": [
    "def which_group(word):\n",
    "    a = morph.parse(word)\n",
    "\n",
    "    if type(a[0].methods_stack[0][0]) != dict_type:\n",
    "        return 'несловарно'\n",
    "    \n",
    "    elif len(a) == 1:\n",
    "        return 'однозначно'\n",
    "    \n",
    "    else:\n",
    "        lemma = -1\n",
    "        pos = -1\n",
    "        \n",
    "        for p in a:\n",
    "            if lemma == -1:\n",
    "                lemma = p.normal_form\n",
    "            elif lemma != p.normal_form:\n",
    "                lemma = 0\n",
    "                break\n",
    "        if isinstance(lemma, str):\n",
    "            lemma = 1\n",
    "\n",
    "        for p in a:\n",
    "            if pos == -1:\n",
    "                pos = str(p.tag.POS)\n",
    "            elif pos != str(p.tag.POS):\n",
    "                pos = 0\n",
    "                break\n",
    "        if isinstance(pos, str):\n",
    "            pos = 1\n",
    "        \n",
    "        if pos+lemma == 0:\n",
    "            return 'неоднозначно по части речи и лемме'\n",
    "        elif pos+lemma == 2:\n",
    "            return 'неоднозначно по параметрам'\n",
    "        elif pos == 0 and lemma == 1:\n",
    "            return 'неоднозначно по части речи'\n",
    "        else:\n",
    "            return 'неоднозначно по лемме'"
   ]
  },
  {
   "cell_type": "code",
   "execution_count": 4,
   "metadata": {},
   "outputs": [],
   "source": [
    "def get_good_text(text):\n",
    "    return re.findall('\\w+-\\w+-\\w+|\\w+-\\w+|\\w+', text.lower())"
   ]
  },
  {
   "cell_type": "code",
   "execution_count": 5,
   "metadata": {},
   "outputs": [],
   "source": [
    "def get_cnt(good_text):\n",
    "    cnt = {}\n",
    "    top = Counter(good_text).most_common()\n",
    "    for thing in top:\n",
    "        cnt[thing[0]] = thing[1]\n",
    "    return cnt"
   ]
  },
  {
   "cell_type": "code",
   "execution_count": 6,
   "metadata": {},
   "outputs": [],
   "source": [
    "def fill_db(cnt):\n",
    "    for word in cnt:\n",
    "        try:\n",
    "            cur.execute(\n",
    "                '''INSERT INTO main (word, freq, type)\n",
    "                    VALUES (?, ?, ?)''',\n",
    "                    (word, cnt[word], which_group(word))\n",
    "                )\n",
    "\n",
    "        except sqlite3.IntegrityError:\n",
    "\n",
    "            cur.execute(\n",
    "            '''select freq\n",
    "                from main\n",
    "                where word = (?) ''', (word,)\n",
    "            )\n",
    "            old_freq = cur.fetchone()[0]\n",
    "\n",
    "            cur.execute(\n",
    "                '''UPDATE main\n",
    "                    SET freq = (?)\n",
    "                    WHERE word = (?)''', \n",
    "                (cnt[word] + old_freq, word)\n",
    "                )\n",
    "\n",
    "    conn.commit()"
   ]
  },
  {
   "cell_type": "code",
   "execution_count": 7,
   "metadata": {},
   "outputs": [],
   "source": [
    "def dump_file(file):\n",
    "    with open(file, 'r', encoding='cp1251') as f:\n",
    "        text = f.read()\n",
    "    fill_db(get_cnt(get_good_text(text)))"
   ]
  },
  {
   "cell_type": "code",
   "execution_count": 12,
   "metadata": {
    "collapsed": true
   },
   "outputs": [
    {
     "name": "stdout",
     "output_type": "stream",
     "text": [
      "sp00\n",
      "sp01\n",
      "sp02\n",
      "sp03\n",
      "sp04\n",
      "sp05\n",
      "sp06\n",
      "sp07\n",
      "sp08\n",
      "sp09\n"
     ]
    }
   ],
   "source": [
    "for i in range(10):\n",
    "    st = 'sp0' + str(i)\n",
    "    print(st)\n",
    "    dump_file(st)"
   ]
  },
  {
   "cell_type": "code",
   "execution_count": 13,
   "metadata": {
    "collapsed": true
   },
   "outputs": [
    {
     "name": "stdout",
     "output_type": "stream",
     "text": [
      "sp10\n",
      "sp11\n",
      "sp12\n",
      "sp13\n",
      "sp14\n",
      "sp15\n",
      "sp16\n",
      "sp17\n",
      "sp18\n",
      "sp19\n",
      "sp20\n",
      "sp21\n",
      "sp22\n",
      "sp23\n",
      "sp24\n",
      "sp25\n",
      "sp26\n",
      "sp27\n",
      "sp28\n",
      "sp29\n",
      "sp30\n",
      "sp31\n",
      "sp32\n",
      "sp33\n",
      "sp34\n",
      "sp35\n",
      "sp36\n",
      "sp37\n",
      "sp38\n",
      "sp39\n",
      "sp40\n",
      "sp41\n",
      "sp42\n",
      "sp43\n",
      "sp44\n",
      "sp45\n",
      "sp46\n",
      "sp47\n",
      "sp48\n",
      "sp49\n",
      "sp50\n",
      "sp51\n",
      "sp52\n",
      "sp53\n",
      "sp54\n",
      "sp55\n",
      "sp56\n",
      "sp57\n",
      "sp58\n",
      "sp59\n",
      "sp60\n",
      "sp61\n",
      "sp62\n",
      "sp63\n",
      "sp64\n",
      "sp65\n",
      "sp66\n",
      "sp67\n",
      "sp68\n",
      "sp69\n",
      "sp70\n",
      "sp71\n",
      "sp72\n",
      "sp73\n",
      "sp74\n",
      "sp75\n",
      "sp76\n",
      "sp77\n",
      "sp78\n",
      "sp79\n",
      "sp80\n",
      "sp81\n",
      "sp82\n",
      "sp83\n",
      "sp84\n",
      "sp85\n",
      "sp86\n",
      "sp87\n",
      "sp88\n",
      "sp89\n"
     ]
    }
   ],
   "source": [
    "for i in range(10, 90):\n",
    "    st = 'sp' + str(i)\n",
    "    print(st)\n",
    "    dump_file(st)"
   ]
  },
  {
   "cell_type": "markdown",
   "metadata": {},
   "source": [
    "в sp9001, sp9002, sp9017 что-то сломалось"
   ]
  },
  {
   "cell_type": "code",
   "execution_count": 19,
   "metadata": {
    "collapsed": true
   },
   "outputs": [
    {
     "name": "stdout",
     "output_type": "stream",
     "text": [
      "sp9003\n",
      "sp9004\n",
      "sp9005\n",
      "sp9006\n",
      "sp9007\n",
      "sp9008\n",
      "sp9009\n"
     ]
    }
   ],
   "source": [
    "for i in range(3, 10):\n",
    "    st = 'sp900' + str(i)\n",
    "    print(st)\n",
    "    dump_file(st)"
   ]
  },
  {
   "cell_type": "code",
   "execution_count": 22,
   "metadata": {
    "collapsed": true
   },
   "outputs": [
    {
     "name": "stdout",
     "output_type": "stream",
     "text": [
      "sp9010\n",
      "sp9011\n",
      "sp9012\n",
      "sp9013\n",
      "sp9014\n",
      "sp9015\n",
      "sp9016\n"
     ]
    }
   ],
   "source": [
    "for i in range(10, 17):\n",
    "    st = 'sp90' + str(i)\n",
    "    print(st)\n",
    "    dump_file(st)"
   ]
  },
  {
   "cell_type": "code",
   "execution_count": null,
   "metadata": {},
   "outputs": [],
   "source": []
  }
 ],
 "metadata": {
  "kernelspec": {
   "display_name": "Python 3",
   "language": "python",
   "name": "python3"
  },
  "language_info": {
   "codemirror_mode": {
    "name": "ipython",
    "version": 3
   },
   "file_extension": ".py",
   "mimetype": "text/x-python",
   "name": "python",
   "nbconvert_exporter": "python",
   "pygments_lexer": "ipython3",
   "version": "3.7.3"
  }
 },
 "nbformat": 4,
 "nbformat_minor": 2
}
