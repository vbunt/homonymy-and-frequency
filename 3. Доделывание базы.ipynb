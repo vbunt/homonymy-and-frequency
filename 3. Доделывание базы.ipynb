{
 "cells": [
  {
   "cell_type": "code",
   "execution_count": 1,
   "metadata": {},
   "outputs": [],
   "source": [
    "import pymorphy2\n",
    "import re\n",
    "from collections import Counter\n",
    "import pandas\n",
    "morph = pymorphy2.MorphAnalyzer()\n",
    "import matplotlib.pyplot as plt\n",
    "import sqlite3"
   ]
  },
  {
   "cell_type": "code",
   "execution_count": 2,
   "metadata": {},
   "outputs": [],
   "source": [
    "conn = sqlite3.connect('words.db')\n",
    "cur = conn.cursor()"
   ]
  },
  {
   "cell_type": "code",
   "execution_count": 3,
   "metadata": {},
   "outputs": [],
   "source": [
    "cur.execute(\"\"\"\n",
    "CREATE TABLE IF NOT EXISTS pos_tag_lemma \n",
    "(lemma text, \n",
    "word text,\n",
    "pos text, \n",
    "tag text)\n",
    "\"\"\")\n",
    "conn.commit()"
   ]
  },
  {
   "cell_type": "code",
   "execution_count": 4,
   "metadata": {},
   "outputs": [],
   "source": [
    "def find_lemma(word):\n",
    "    p = morph.parse(word)\n",
    "    ls = []\n",
    "    for s in p:\n",
    "        l = [s.normal_form, word, s.tag.POS, ' '.join(re.findall('\\w+', str(s.tag))[1:])]\n",
    "        ls.append(l)\n",
    "\n",
    "    return ls"
   ]
  },
  {
   "cell_type": "code",
   "execution_count": 5,
   "metadata": {},
   "outputs": [
    {
     "data": {
      "text/plain": [
       "[['август', 'август', 'NOUN', 'inan masc sing nomn'],\n",
       " ['август', 'август', 'NOUN', 'anim masc Name sing nomn'],\n",
       " ['август', 'август', 'NOUN', 'inan masc sing accs'],\n",
       " ['августа', 'август', 'NOUN', 'anim femn Name plur gent'],\n",
       " ['августа', 'август', 'NOUN', 'anim femn Name plur accs']]"
      ]
     },
     "execution_count": 5,
     "metadata": {},
     "output_type": "execute_result"
    }
   ],
   "source": [
    "find_lemma('август')"
   ]
  },
  {
   "cell_type": "code",
   "execution_count": 6,
   "metadata": {},
   "outputs": [],
   "source": [
    "cur.execute('''\n",
    "            select word\n",
    "            from main\n",
    "            order by freq DESC\n",
    "            limit 20000''')\n",
    "w = cur.fetchall()\n",
    "for row in w:\n",
    "    word = row[0]\n",
    "    ls = find_lemma(word)\n",
    "    for l in ls:\n",
    "        cur.execute('''\n",
    "                    insert into pos_tag_lemma (lemma, word, pos, tag)\n",
    "                    values (?, ?, ?, ?)''', (l[0], l[1], l[2], l[3]))\n",
    "        conn.commit()"
   ]
  },
  {
   "cell_type": "code",
   "execution_count": null,
   "metadata": {},
   "outputs": [],
   "source": []
  }
 ],
 "metadata": {
  "kernelspec": {
   "display_name": "Python 3",
   "language": "python",
   "name": "python3"
  },
  "language_info": {
   "codemirror_mode": {
    "name": "ipython",
    "version": 3
   },
   "file_extension": ".py",
   "mimetype": "text/x-python",
   "name": "python",
   "nbconvert_exporter": "python",
   "pygments_lexer": "ipython3",
   "version": "3.7.3"
  }
 },
 "nbformat": 4,
 "nbformat_minor": 2
}
