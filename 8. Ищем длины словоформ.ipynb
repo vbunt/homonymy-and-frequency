{
 "cells": [
  {
   "cell_type": "code",
   "execution_count": 1,
   "metadata": {},
   "outputs": [],
   "source": [
    "import sqlite3\n",
    "import pandas\n",
    "import seaborn as sns\n",
    "from collections import Counter\n",
    "import matplotlib\n",
    "import matplotlib.pyplot as plt\n",
    "import numpy as np"
   ]
  },
  {
   "cell_type": "code",
   "execution_count": 2,
   "metadata": {},
   "outputs": [],
   "source": [
    "conn = sqlite3.connect('words.db')\n",
    "cur = conn.cursor()"
   ]
  },
  {
   "cell_type": "markdown",
   "metadata": {},
   "source": [
    "## Для всех слов"
   ]
  },
  {
   "cell_type": "code",
   "execution_count": 3,
   "metadata": {},
   "outputs": [],
   "source": [
    "cur.execute('''\n",
    "            select word \n",
    "            from main \n",
    "            where type != 'несловарно'\n",
    "            order by freq DESC\n",
    "            ''')\n",
    "lines = cur.fetchall()"
   ]
  },
  {
   "cell_type": "code",
   "execution_count": 4,
   "metadata": {},
   "outputs": [],
   "source": [
    "def find_avg_len(lines):\n",
    "    for i in range(len(lines)):\n",
    "        lines[i] = lines[i][0]\n",
    "    k = ''.join(lines)\n",
    "    l0 = len(lines)\n",
    "    l1 = len(k)\n",
    "    print('Средняя длина токена: ', l1/l0)"
   ]
  },
  {
   "cell_type": "code",
   "execution_count": 5,
   "metadata": {},
   "outputs": [
    {
     "name": "stdout",
     "output_type": "stream",
     "text": [
      "Средняя длина токена:  9.518513946349927\n"
     ]
    }
   ],
   "source": [
    "find_avg_len(lines)"
   ]
  },
  {
   "cell_type": "markdown",
   "metadata": {},
   "source": [
    "## Для неоднозначных по части речи и лемме"
   ]
  },
  {
   "cell_type": "code",
   "execution_count": 6,
   "metadata": {},
   "outputs": [],
   "source": [
    "cur.execute('''\n",
    "            select word \n",
    "            from main \n",
    "            where type = 'неоднозначно по части речи и лемме'\n",
    "            order by freq DESC\n",
    "            ''')\n",
    "lines = cur.fetchall()"
   ]
  },
  {
   "cell_type": "code",
   "execution_count": 7,
   "metadata": {},
   "outputs": [
    {
     "name": "stdout",
     "output_type": "stream",
     "text": [
      "Средняя длина токена:  8.43981088616802\n"
     ]
    }
   ],
   "source": [
    "find_avg_len(lines)"
   ]
  },
  {
   "cell_type": "markdown",
   "metadata": {},
   "source": [
    "## Для остальных"
   ]
  },
  {
   "cell_type": "code",
   "execution_count": 8,
   "metadata": {},
   "outputs": [],
   "source": [
    "cur.execute('''\n",
    "            select word \n",
    "            from main \n",
    "            where type != 'неоднозначно по части речи и лемме' and type != 'несловарно'\n",
    "            order by freq DESC\n",
    "            ''')\n",
    "lines = cur.fetchall()"
   ]
  },
  {
   "cell_type": "code",
   "execution_count": 9,
   "metadata": {},
   "outputs": [
    {
     "name": "stdout",
     "output_type": "stream",
     "text": [
      "Средняя длина токена:  9.651958578905536\n"
     ]
    }
   ],
   "source": [
    "find_avg_len(lines)"
   ]
  },
  {
   "cell_type": "markdown",
   "metadata": {},
   "source": [
    "# С разделением по границе (6 знаков)"
   ]
  },
  {
   "cell_type": "code",
   "execution_count": 10,
   "metadata": {},
   "outputs": [],
   "source": [
    "cur.execute('''\n",
    "            select pos_tag_lemma.word, type -- что тут происходит?\n",
    "            from pos_tag_lemma\n",
    "            join main on pos_tag_lemma.word = main.word\n",
    "            where type != 'несловарно'\n",
    "            group by pos_tag_lemma.word\n",
    "            order by freq DESC\n",
    "            ''')\n",
    "lines = cur.fetchall()"
   ]
  },
  {
   "cell_type": "code",
   "execution_count": 11,
   "metadata": {},
   "outputs": [],
   "source": [
    "short = {}\n",
    "long = {}\n",
    "for line in lines:\n",
    "    if len(line[0]) >= 6:\n",
    "        long[line[0]] = line[1]\n",
    "    else:\n",
    "        short[line[0]] = line[1]"
   ]
  },
  {
   "cell_type": "code",
   "execution_count": 12,
   "metadata": {},
   "outputs": [],
   "source": [
    "short_c = Counter(short.values())\n",
    "short_p = {}\n",
    "for key in short_c.keys():\n",
    "    short_p[key] = short_c[key]/len(short)"
   ]
  },
  {
   "cell_type": "code",
   "execution_count": 13,
   "metadata": {},
   "outputs": [],
   "source": [
    "long_c = Counter(long.values())\n",
    "long_p = {}\n",
    "for key in long_c.keys():\n",
    "    long_p[key] = long_c[key]/len(long)"
   ]
  },
  {
   "cell_type": "code",
   "execution_count": 14,
   "metadata": {},
   "outputs": [
    {
     "data": {
      "image/png": "[encoded data removed]",
      "text/plain": [
       "<Figure size 432x288 with 1 Axes>"
      ]
     },
     "metadata": {
      "needs_background": "light"
     },
     "output_type": "display_data"
    }
   ],
   "source": [
    "labels = ['лемма', 'парам', 'ч. речи', 'чр и лемма', 'однозн']\n",
    "short_means = [short_p[key] for key in sorted(long_p.keys())]\n",
    "long_means = [long_p[key] for key in sorted(long_p.keys())]\n",
    "\n",
    "x = np.arange(len(labels)) \n",
    "width = 0.35 \n",
    "\n",
    "fig, ax = plt.subplots()\n",
    "rects1 = ax.bar(x - width/2, short_means, width, label='Short')\n",
    "rects2 = ax.bar(x + width/2, long_means, width, label='Long')\n",
    "\n",
    "ax.set_ylabel('Проценты')\n",
    "ax.set_title('Количество словоформ определенного типа в зависимости от длины')\n",
    "ax.set_xticks(x)\n",
    "ax.set_xticklabels(labels)\n",
    "ax.legend()\n",
    "\n",
    "fig.tight_layout()\n",
    "\n",
    "plt.show()"
   ]
  },
  {
   "cell_type": "markdown",
   "metadata": {},
   "source": [
    "# Более интеллектуальный подход"
   ]
  },
  {
   "cell_type": "code",
   "execution_count": 15,
   "metadata": {},
   "outputs": [],
   "source": [
    "cur.execute('''\n",
    "            select word, type\n",
    "            from main\n",
    "            where type != 'несловарно'\n",
    "            order by freq DESC\n",
    "            limit 30000\n",
    "            ''')\n",
    "lines = cur.fetchall()"
   ]
  },
  {
   "cell_type": "code",
   "execution_count": 16,
   "metadata": {},
   "outputs": [],
   "source": [
    "lengths = {'<=2':[], '3':[], '4':[], '5':[], '6':[], '7':[], \n",
    "           '8':[], '9':[], '10':[], '11':[], '12':[], '>=13':[]}\n",
    "for line in lines:\n",
    "    if len(line[0]) <= 2:\n",
    "        lengths['<=2'].append(line[1])\n",
    "    elif len(line[0]) == 3:\n",
    "        lengths['3'].append(line[1])\n",
    "    elif len(line[0]) == 4:\n",
    "        lengths['4'].append(line[1])\n",
    "    elif len(line[0]) == 5:\n",
    "        lengths['5'].append(line[1])\n",
    "    elif len(line[0]) == 6:\n",
    "        lengths['6'].append(line[1])\n",
    "    elif len(line[0]) == 7:\n",
    "        lengths['7'].append(line[1])\n",
    "    elif len(line[0]) == 8:\n",
    "        lengths['8'].append(line[1])\n",
    "    elif len(line[0]) == 9:\n",
    "        lengths['9'].append(line[1])\n",
    "    elif len(line[0]) == 10:\n",
    "        lengths['10'].append(line[1])\n",
    "    elif len(line[0]) == 11:\n",
    "        lengths['11'].append(line[1])\n",
    "    elif len(line[0]) == 12:\n",
    "        lengths['12'].append(line[1])\n",
    "    else:\n",
    "        lengths['>=13'].append(line[1])"
   ]
  },
  {
   "cell_type": "code",
   "execution_count": 17,
   "metadata": {
    "scrolled": false
   },
   "outputs": [],
   "source": [
    "for l in lengths.keys():\n",
    "    all_ = len(lengths[l])\n",
    "    cnt = Counter(lengths[l])\n",
    "    for c in cnt:\n",
    "        cnt[c] = cnt[c]/all_\n",
    "    lengths[l] = cnt"
   ]
  },
  {
   "cell_type": "code",
   "execution_count": 18,
   "metadata": {},
   "outputs": [],
   "source": [
    "df = pandas.DataFrame.from_dict(lengths).transpose()"
   ]
  },
  {
   "cell_type": "code",
   "execution_count": 19,
   "metadata": {},
   "outputs": [
    {
     "data": {
      "image/png": "[encoded data removed]",
      "text/plain": [
       "<Figure size 432x288 with 1 Axes>"
      ]
     },
     "metadata": {
      "needs_background": "light"
     },
     "output_type": "display_data"
    }
   ],
   "source": [
    "labels = ['<=2', '3', '4', '5', '6', '7', '8', '9', '10', '11', '12', '>=13']\n",
    "          \n",
    "amb_pos = list(df['неоднозначно по части речи'])\n",
    "disamb = list(df['однозначно'])\n",
    "amb_p_lem = list(df['неоднозначно по части речи и лемме'])\n",
    "amb_par = list(df['неоднозначно по параметрам'])\n",
    "amb_lem = list(df['неоднозначно по лемме'])\n",
    "\n",
    "x = np.arange(len(labels))\n",
    "width = 0.2\n",
    "\n",
    "fig, ax = plt.subplots()\n",
    "rects1 = ax.bar(x - 9*width/5, amb_pos, width, label='чр')\n",
    "rects2 = ax.bar(x - 4.5*width/5, disamb, width, label='одн')\n",
    "rects3 = ax.bar(x, amb_p_lem, width, label='чрл')\n",
    "rects4 = ax.bar(x + 9*width/5, amb_par, width, label='пар')\n",
    "rects5 = ax.bar(x + 4.5*width/5, amb_lem, width, label='лем')\n",
    "\n",
    "ax.set_title('Доля типов неоднозначности в зависимости от длины токена')\n",
    "ax.set_xticks(x)\n",
    "ax.set_xticklabels(labels)\n",
    "ax.legend()\n",
    "\n",
    "\n",
    "fig.tight_layout()\n",
    "\n",
    "plt.show()"
   ]
  },
  {
   "cell_type": "code",
   "execution_count": 20,
   "metadata": {},
   "outputs": [
    {
     "data": {
      "image/png": "[encoded data removed]",
      "text/plain": [
       "<Figure size 432x288 with 1 Axes>"
      ]
     },
     "metadata": {
      "needs_background": "light"
     },
     "output_type": "display_data"
    }
   ],
   "source": [
    "labels = ['<=2', '3', '4', '5', '6', '7', '8', '9', '10', '11', '12', '>=13']\n",
    "          \n",
    "disamb = list(df['однозначно'])\n",
    "amb = [1-i for i in disamb]\n",
    "\n",
    "x = np.arange(len(labels)) \n",
    "width = 0.2 \n",
    "\n",
    "fig, ax = plt.subplots()\n",
    "rects1 = ax.bar(x + width/2, amb, width, label='неоднозначно')\n",
    "rects2 = ax.bar(x - width/2, disamb, width, label='однозначно')\n",
    "\n",
    "\n",
    "ax.set_title('Доля однозначности в зависимости от длины токена')\n",
    "ax.set_xticks(x)\n",
    "ax.set_xticklabels(labels)\n",
    "ax.legend()\n",
    "\n",
    "\n",
    "fig.tight_layout()\n",
    "\n",
    "plt.show()"
   ]
  },
  {
   "cell_type": "code",
   "execution_count": null,
   "metadata": {},
   "outputs": [],
   "source": []
  }
 ],
 "metadata": {
  "kernelspec": {
   "display_name": "Python 3",
   "language": "python",
   "name": "python3"
  },
  "language_info": {
   "codemirror_mode": {
    "name": "ipython",
    "version": 3
   },
   "file_extension": ".py",
   "mimetype": "text/x-python",
   "name": "python",
   "nbconvert_exporter": "python",
   "pygments_lexer": "ipython3",
   "version": "3.7.3"
  }
 },
 "nbformat": 4,
 "nbformat_minor": 2
}
